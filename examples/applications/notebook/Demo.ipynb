{
 "cells": [
  {
   "cell_type": "code",
   "execution_count": 1,
   "metadata": {},
   "outputs": [],
   "source": [
    "import os"
   ]
  },
  {
   "cell_type": "markdown",
   "metadata": {},
   "source": [
    "## Imports"
   ]
  },
  {
   "cell_type": "code",
   "execution_count": 2,
   "metadata": {},
   "outputs": [],
   "source": [
    "from nl4dv import NL4DV"
   ]
  },
  {
   "cell_type": "markdown",
   "metadata": {},
   "source": [
    "### Initialize NL4DV"
   ]
  },
  {
   "cell_type": "code",
   "execution_count": 3,
   "metadata": {},
   "outputs": [],
   "source": [
    "nl4dv_instance = NL4DV(data_url=os.path.join(\"..\",\"..\",\"assets\",\"data\",\"cars-w-year.csv\"))"
   ]
  },
  {
   "cell_type": "markdown",
   "metadata": {},
   "source": [
    "### Execute Query"
   ]
  },
  {
   "cell_type": "code",
   "execution_count": 4,
   "metadata": {
    "scrolled": true
   },
   "outputs": [
    {
     "data": {
      "application/javascript": [
       "const spec = {\"$schema\": \"https://vega.github.io/schema/vega-lite/v4.json\", \"mark\": {\"tooltip\": true, \"type\": \"point\"}, \"encoding\": {\"x\": {\"field\": \"Horsepower\", \"type\": \"quantitative\"}, \"y\": {\"field\": \"Acceleration\", \"type\": \"quantitative\"}}, \"transform\": [{\"filter\": {\"field\": \"Model\", \"oneOf\": [\"mercedes benz 300d\", \"mercedes-benz 280s\", \"mercedes-benz 240d\"]}}], \"data\": {\"url\": \"../../assets/data/cars-w-year.csv\", \"format\": {\"type\": \"csv\"}}};\n",
       "const opt = {};\n",
       "const type = \"vega-lite\";\n",
       "const id = \"0a803340-3346-4fd4-ab12-7dde258a7f32\";\n",
       "\n",
       "const output_area = this;\n",
       "\n",
       "require([\"nbextensions/jupyter-vega/index\"], function(vega) {\n",
       "  const target = document.createElement(\"div\");\n",
       "  target.id = id;\n",
       "  target.className = \"vega-embed\";\n",
       "\n",
       "  const style = document.createElement(\"style\");\n",
       "  style.textContent = [\n",
       "    \".vega-embed .error p {\",\n",
       "    \"  color: firebrick;\",\n",
       "    \"  font-size: 14px;\",\n",
       "    \"}\",\n",
       "  ].join(\"\\\\n\");\n",
       "\n",
       "  // element is a jQuery wrapped DOM element inside the output area\n",
       "  // see http://ipython.readthedocs.io/en/stable/api/generated/\\\n",
       "  // IPython.display.html#IPython.display.Javascript.__init__\n",
       "  element[0].appendChild(target);\n",
       "  element[0].appendChild(style);\n",
       "\n",
       "  vega.render(\"#\" + id, spec, type, opt, output_area);\n",
       "}, function (err) {\n",
       "  if (err.requireType !== \"scripterror\") {\n",
       "    throw(err);\n",
       "  }\n",
       "});\n"
      ],
      "text/plain": [
       "<vega.vegalite.VegaLite at 0x117335f60>"
      ]
     },
     "execution_count": 4,
     "metadata": {
      "jupyter-vega": "#0a803340-3346-4fd4-ab12-7dde258a7f32"
     },
     "output_type": "execute_result"
    },
    {
     "data": {
      "image/png": "[encoded data removed]"
     },
     "metadata": {
      "jupyter-vega": "#0a803340-3346-4fd4-ab12-7dde258a7f32"
     },
     "output_type": "display_data"
    }
   ],
   "source": [
    "nl4dv_instance.render_vis(\"Correlate acceleration and horsepower for mercedes cars\")"
   ]
  },
  {
   "cell_type": "markdown",
   "metadata": {},
   "source": [
    "## More Detailed Analysis"
   ]
  },
  {
   "cell_type": "code",
   "execution_count": 5,
   "metadata": {},
   "outputs": [],
   "source": [
    "from pprint import pprint"
   ]
  },
  {
   "cell_type": "code",
   "execution_count": 6,
   "metadata": {
    "scrolled": false
   },
   "outputs": [],
   "source": [
    "response = nl4dv_instance.analyze_query(\"Correlate acceleration and horsepower for mercedes cars\")"
   ]
  },
  {
   "cell_type": "markdown",
   "metadata": {},
   "source": [
    "### Output [1]: Attributes"
   ]
  },
  {
   "cell_type": "code",
   "execution_count": 7,
   "metadata": {},
   "outputs": [
    {
     "name": "stdout",
     "output_type": "stream",
     "text": [
      "{'Acceleration': {'ambiguity': [],\n",
      "                  'isAmbiguous': False,\n",
      "                  'metric': 'attribute_similarity_match',\n",
      "                  'name': 'Acceleration',\n",
      "                  'queryPhrase': ['acceleration'],\n",
      "                  'inferenceType': 'EXPLICIT'},\n",
      " 'Horsepower': {'ambiguity': [],\n",
      "                'isAmbiguous': False,\n",
      "                'metric': 'attribute_similarity_match',\n",
      "                'name': 'Horsepower',\n",
      "                'queryPhrase': ['horsepower'],\n",
      "                'inferenceType': 'EXPLICIT'},\n",
      " 'Model': {'ambiguity': [],\n",
      "           'isAmbiguous': False,\n",
      "           'metric': 'attribute_domain_value_match',\n",
      "           'name': 'Model',\n",
      "           'queryPhrase': ['mercedes'],\n",
      "           'inferenceType': 'IMPLICIT'}}\n"
     ]
    }
   ],
   "source": [
    "attrs = response['attributeMap']\n",
    "pprint(attrs)"
   ]
  },
  {
   "cell_type": "markdown",
   "metadata": {},
   "source": [
    "### Output [2]: Tasks"
   ]
  },
  {
   "cell_type": "code",
   "execution_count": 8,
   "metadata": {},
   "outputs": [
    {
     "name": "stdout",
     "output_type": "stream",
     "text": [
      "{'filter': [{'attribute': 'Model',\n",
      "             'operator': 'in',\n",
      "             'queryPhrase': ['mercedes'],\n",
      "             'task': 'filter',\n",
      "             'values': ['mercedes benz 300d',\n",
      "                        'mercedes-benz 280s',\n",
      "                        'mercedes-benz 240d']}]}\n"
     ]
    }
   ],
   "source": [
    "tasks = response['taskMap']\n",
    "pprint(tasks)"
   ]
  },
  {
   "cell_type": "markdown",
   "metadata": {},
   "source": [
    "### Output [3]: Vega-Lite Spec for most relevant Visualization"
   ]
  },
  {
   "cell_type": "code",
   "execution_count": 9,
   "metadata": {
    "scrolled": true
   },
   "outputs": [
    {
     "name": "stdout",
     "output_type": "stream",
     "text": [
      "{'$schema': 'https://vega.github.io/schema/vega-lite/v4.json',\n",
      " 'data': {'format': {'type': 'csv'},\n",
      "          'url': '../../assets/data/cars-w-year.csv'},\n",
      " 'encoding': {'x': {'field': 'Horsepower', 'type': 'quantitative'},\n",
      "              'y': {'field': 'Acceleration', 'type': 'quantitative'}},\n",
      " 'mark': {'tooltip': True, 'type': 'point'},\n",
      " 'transform': [{'filter': {'field': 'Model',\n",
      "                           'oneOf': ['mercedes benz 300d',\n",
      "                                     'mercedes-benz 280s',\n",
      "                                     'mercedes-benz 240d']}}]}\n"
     ]
    }
   ],
   "source": [
    "spec = response['visList'][0]['vlSpec']\n",
    "pprint(spec)"
   ]
  },
  {
   "cell_type": "markdown",
   "metadata": {},
   "source": [
    "### Render the first (most) recommended Vis"
   ]
  },
  {
   "cell_type": "code",
   "execution_count": 10,
   "metadata": {},
   "outputs": [
    {
     "data": {
      "application/javascript": [
       "const spec = {\"$schema\": \"https://vega.github.io/schema/vega-lite/v4.json\", \"mark\": {\"tooltip\": true, \"type\": \"point\"}, \"encoding\": {\"x\": {\"field\": \"Horsepower\", \"type\": \"quantitative\"}, \"y\": {\"field\": \"Acceleration\", \"type\": \"quantitative\"}}, \"transform\": [{\"filter\": {\"field\": \"Model\", \"oneOf\": [\"mercedes benz 300d\", \"mercedes-benz 280s\", \"mercedes-benz 240d\"]}}], \"data\": {\"url\": \"../../assets/data/cars-w-year.csv\", \"format\": {\"type\": \"csv\"}}};\n",
       "const opt = {};\n",
       "const type = \"vega-lite\";\n",
       "const id = \"da4cbcd7-7d98-418c-a613-318d93b1b25b\";\n",
       "\n",
       "const output_area = this;\n",
       "\n",
       "require([\"nbextensions/jupyter-vega/index\"], function(vega) {\n",
       "  const target = document.createElement(\"div\");\n",
       "  target.id = id;\n",
       "  target.className = \"vega-embed\";\n",
       "\n",
       "  const style = document.createElement(\"style\");\n",
       "  style.textContent = [\n",
       "    \".vega-embed .error p {\",\n",
       "    \"  color: firebrick;\",\n",
       "    \"  font-size: 14px;\",\n",
       "    \"}\",\n",
       "  ].join(\"\\\\n\");\n",
       "\n",
       "  // element is a jQuery wrapped DOM element inside the output area\n",
       "  // see http://ipython.readthedocs.io/en/stable/api/generated/\\\n",
       "  // IPython.display.html#IPython.display.Javascript.__init__\n",
       "  element[0].appendChild(target);\n",
       "  element[0].appendChild(style);\n",
       "\n",
       "  vega.render(\"#\" + id, spec, type, opt, output_area);\n",
       "}, function (err) {\n",
       "  if (err.requireType !== \"scripterror\") {\n",
       "    throw(err);\n",
       "  }\n",
       "});\n"
      ],
      "text/plain": [
       "<vega.vegalite.VegaLite at 0x11b0b7400>"
      ]
     },
     "execution_count": 10,
     "metadata": {
      "jupyter-vega": "#da4cbcd7-7d98-418c-a613-318d93b1b25b"
     },
     "output_type": "execute_result"
    },
    {
     "data": {
      "image/png": "[encoded data removed]"
     },
     "metadata": {
      "jupyter-vega": "#da4cbcd7-7d98-418c-a613-318d93b1b25b"
     },
     "output_type": "display_data"
    }
   ],
   "source": [
    "from vega import VegaLite\n",
    "VegaLite(spec)"
   ]
  }
 ],
 "metadata": {
  "kernelspec": {
   "display_name": "Python 3",
   "language": "python",
   "name": "python3"
  },
  "language_info": {
   "codemirror_mode": {
    "name": "ipython",
    "version": 3
   },
   "file_extension": ".py",
   "mimetype": "text/x-python",
   "name": "python",
   "nbconvert_exporter": "python",
   "pygments_lexer": "ipython3",
   "version": "3.6.5"
  }
 },
 "nbformat": 4,
 "nbformat_minor": 4
}
